{
  "cells": [
    {
      "cell_type": "markdown",
      "metadata": {
        "id": "view-in-github",
        "colab_type": "text"
      },
      "source": [
        "<a href=\"https://colab.research.google.com/github/fawziafaraag/first-task/blob/main/Lab_2_Trainees_from_Vector_Space_to_Gram_Shmidt.ipynb\" target=\"_parent\"><img src=\"https://colab.research.google.com/assets/colab-badge.svg\" alt=\"Open In Colab\"/></a>"
      ]
    },
    {
      "cell_type": "markdown",
      "id": "dd5fdc2a",
      "metadata": {
        "id": "dd5fdc2a"
      },
      "source": [
        "## Linear Combination\n",
        "### Use NumPy"
      ]
    },
    {
      "cell_type": "markdown",
      "id": "38364291",
      "metadata": {
        "id": "38364291"
      },
      "source": [
        "$$v_1=\\begin{bmatrix} 1 \\\\ 2 \\\\ 3 \\end{bmatrix},\n",
        "v_2=\\begin{bmatrix} 3 \\\\ 5 \\\\ 1 \\end{bmatrix},\n",
        "v_3=\\begin{bmatrix} 0 \\\\ 0 \\\\ 8 \\end{bmatrix}$$\n",
        "- Find <b>b</b> vector where $$b=3v_1+0v_2+0v_3$$\n",
        "- Find <b>x</b> vector where $$x=-v_1+v_2-0.5v_3$$"
      ]
    },
    {
      "cell_type": "code",
      "source": [
        "import numpy as np"
      ],
      "metadata": {
        "id": "dKBJ_qMQIF4A"
      },
      "id": "dKBJ_qMQIF4A",
      "execution_count": null,
      "outputs": []
    },
    {
      "cell_type": "code",
      "source": [
        "v1= np.array([[1],[2],[3]])\n",
        "v2= np.array([[3],[5],[1]])\n",
        "v3= np.array([[0],[0],[8]])\n",
        "b=np.multiply(v1,3)+np.multiply(v2,0)+np.multiply(v3,0)\n",
        "print('b:\\n',b)\n",
        "x=np.multiply(v1,-1)+np.multiply(v2,1)+np.multiply(v3,-.5)\n",
        "print('x:\\n',x)"
      ],
      "metadata": {
        "colab": {
          "base_uri": "https://localhost:8080/"
        },
        "id": "7PzRZOt7IbEW",
        "outputId": "74cf3332-9ad9-4bcc-ed2e-ec04ff62ebee"
      },
      "id": "7PzRZOt7IbEW",
      "execution_count": null,
      "outputs": [
        {
          "output_type": "stream",
          "name": "stdout",
          "text": [
            "b:\n",
            " [[3]\n",
            " [6]\n",
            " [9]]\n",
            "x:\n",
            " [[ 2.]\n",
            " [ 3.]\n",
            " [-6.]]\n"
          ]
        }
      ]
    },
    {
      "cell_type": "code",
      "execution_count": null,
      "id": "fe0eb854",
      "metadata": {
        "id": "fe0eb854",
        "outputId": "48474fc9-417a-46dd-a13a-dcbf1cf7716d"
      },
      "outputs": [
        {
          "name": "stdout",
          "output_type": "stream",
          "text": [
            "b:\n",
            "[[3]\n",
            " [6]\n",
            " [9]]\n",
            "\n",
            "x:\n",
            "[[ 2.]\n",
            " [ 3.]\n",
            " [-6.]]\n"
          ]
        }
      ],
      "source": []
    },
    {
      "cell_type": "markdown",
      "id": "54955382",
      "metadata": {
        "id": "54955382"
      },
      "source": [
        "## Vector Span\n",
        "### Use Numpy (matrix inverse) and SymPy (rref)"
      ]
    },
    {
      "cell_type": "markdown",
      "id": "9d440a16",
      "metadata": {
        "id": "9d440a16"
      },
      "source": [
        "#### Is $$v=\\begin{bmatrix} 19 \\\\ 10 \\\\ -1 \\end{bmatrix}$$ in the span of \n",
        "$$v_1=\\begin{bmatrix} 3 \\\\ -1 \\\\ 2 \\end{bmatrix},\n",
        "v_2=\\begin{bmatrix} -5 \\\\ 0 \\\\ 1 \\end{bmatrix},\n",
        "v_3=\\begin{bmatrix} 1 \\\\ 7 \\\\ -4 \\end{bmatrix}$$"
      ]
    },
    {
      "cell_type": "code",
      "source": [
        "import numpy as np\n",
        "import sympy as sm"
      ],
      "metadata": {
        "id": "CP0rEZc7LqN5"
      },
      "id": "CP0rEZc7LqN5",
      "execution_count": null,
      "outputs": []
    },
    {
      "cell_type": "code",
      "source": [
        "v=np.array([[3,-5,1,19],\n",
        "            [-1,0,7,10],\n",
        "            [2,1,-4,-1]])\n",
        "m=sm.Matrix(v)\n",
        "a=m.rref()\n",
        "a"
      ],
      "metadata": {
        "colab": {
          "base_uri": "https://localhost:8080/"
        },
        "id": "_8Z7LMNDMQp0",
        "outputId": "73518a48-7108-492e-bac7-974171a3142f"
      },
      "id": "_8Z7LMNDMQp0",
      "execution_count": null,
      "outputs": [
        {
          "output_type": "execute_result",
          "data": {
            "text/plain": [
              "(Matrix([\n",
              " [1, 0, 0,  4],\n",
              " [0, 1, 0, -1],\n",
              " [0, 0, 1,  2]]), (0, 1, 2))"
            ]
          },
          "metadata": {},
          "execution_count": 5
        }
      ]
    },
    {
      "cell_type": "code",
      "execution_count": null,
      "id": "6da888d4",
      "metadata": {
        "id": "6da888d4",
        "outputId": "439f373e-a3ac-45d2-d438-f1eb042c589d"
      },
      "outputs": [
        {
          "data": {
            "text/plain": [
              "(Matrix([\n",
              " [1, 0, 0,  4],\n",
              " [0, 1, 0, -1],\n",
              " [0, 0, 1,  2]]),\n",
              " (0, 1, 2))"
            ]
          },
          "execution_count": 7,
          "metadata": {},
          "output_type": "execute_result"
        }
      ],
      "source": []
    },
    {
      "cell_type": "code",
      "source": [
        "v1= np.array([[3],[-1],[2]])\n",
        "v2= np.array([[-5],[0],[1]])\n",
        "v3= np.array([[1],[7],[-4]])\n",
        "b=np.multiply(v1,4)+np.multiply(v2,-1)+np.multiply(v3,2)\n",
        "print(b)"
      ],
      "metadata": {
        "colab": {
          "base_uri": "https://localhost:8080/"
        },
        "id": "PzL4Wi6TA4qp",
        "outputId": "ba8ae7aa-e363-4d01-d928-c67eb7e2e1ff"
      },
      "id": "PzL4Wi6TA4qp",
      "execution_count": null,
      "outputs": [
        {
          "output_type": "stream",
          "name": "stdout",
          "text": [
            "[[19]\n",
            " [10]\n",
            " [-1]]\n"
          ]
        }
      ]
    },
    {
      "cell_type": "code",
      "execution_count": null,
      "id": "f0d48b0c",
      "metadata": {
        "id": "f0d48b0c",
        "outputId": "f8a6b788-8c49-40b7-a51f-54c8c7d02081"
      },
      "outputs": [
        {
          "name": "stdout",
          "output_type": "stream",
          "text": [
            "[[ 4.]\n",
            " [-1.]\n",
            " [ 2.]]\n"
          ]
        }
      ],
      "source": []
    },
    {
      "cell_type": "markdown",
      "id": "821a71ae",
      "metadata": {
        "id": "821a71ae"
      },
      "source": [
        "## Vector Linear Independence\n",
        "### Use rref and determinant\n",
        "- Consider the following sets of vectors in R3. If the set is independent, prove it. \n",
        "- If the set is dependent, find a nontrivial linear combination of the vectors which is equal to 0.\n",
        "    - {(2, 0, -3), (1, 1, 1), (1, 7, 2)}.\n",
        "    - {(1, 2, -1), (4, 1, 3), (-10, 1, -11)}.\n",
        "\n",
        "<b>Hint: we have to determine whether this implies that 𝒂=𝒃=𝒄=𝟎.</b>"
      ]
    },
    {
      "cell_type": "code",
      "source": [
        "m=sm.Matrix([[2,1,1],\n",
        "             [0,1,7],\n",
        "             [-3,1,2]])\n",
        "m.rref()"
      ],
      "metadata": {
        "colab": {
          "base_uri": "https://localhost:8080/"
        },
        "id": "mGfefocgTcG6",
        "outputId": "23948905-a689-407a-affe-5c4adafb00a5"
      },
      "id": "mGfefocgTcG6",
      "execution_count": null,
      "outputs": [
        {
          "output_type": "execute_result",
          "data": {
            "text/plain": [
              "(Matrix([\n",
              " [1, 0, 0],\n",
              " [0, 1, 0],\n",
              " [0, 0, 1]]), (0, 1, 2))"
            ]
          },
          "metadata": {},
          "execution_count": 42
        }
      ]
    },
    {
      "cell_type": "code",
      "execution_count": null,
      "id": "51c3ffd9",
      "metadata": {
        "id": "51c3ffd9",
        "outputId": "cfbaf002-3a8d-4a88-c425-bcdf50132730"
      },
      "outputs": [
        {
          "data": {
            "text/plain": [
              "(Matrix([\n",
              " [1, 0, 0],\n",
              " [0, 1, 0],\n",
              " [0, 0, 1]]),\n",
              " (0, 1, 2))"
            ]
          },
          "execution_count": 14,
          "metadata": {},
          "output_type": "execute_result"
        }
      ],
      "source": []
    },
    {
      "cell_type": "code",
      "execution_count": null,
      "id": "ddef10e0",
      "metadata": {
        "id": "ddef10e0",
        "colab": {
          "base_uri": "https://localhost:8080/"
        },
        "outputId": "2b1b8e95-a4ae-470e-a976-ab9df96520e0"
      },
      "outputs": [
        {
          "output_type": "execute_result",
          "data": {
            "text/plain": [
              "(Matrix([\n",
              " [1, 0,  2],\n",
              " [0, 1, -3],\n",
              " [0, 0,  0]]), (0, 1))"
            ]
          },
          "metadata": {},
          "execution_count": 44
        }
      ],
      "source": [
        "M = sm.Matrix([[1,4,-10],\n",
        "               [2,1,1],\n",
        "               [-1,3,-11]])\n",
        "M.rref()"
      ]
    },
    {
      "cell_type": "code",
      "execution_count": null,
      "id": "e094ea5c",
      "metadata": {
        "id": "e094ea5c",
        "outputId": "f1e01f9f-9361-4a02-c7c3-d2dd3b2f6694"
      },
      "outputs": [
        {
          "data": {
            "text/plain": [
              "(Matrix([\n",
              " [1, 0,  2],\n",
              " [0, 1, -3],\n",
              " [0, 0,  0]]),\n",
              " (0, 1))"
            ]
          },
          "execution_count": 17,
          "metadata": {},
          "output_type": "execute_result"
        }
      ],
      "source": []
    },
    {
      "cell_type": "code",
      "execution_count": null,
      "id": "4c52897d",
      "metadata": {
        "id": "4c52897d",
        "outputId": "cf5378f8-eff6-4a8e-e374-8a28ed516dc8"
      },
      "outputs": [
        {
          "data": {
            "text/latex": [
              "$\\displaystyle 0$"
            ],
            "text/plain": [
              "0"
            ]
          },
          "execution_count": 19,
          "metadata": {},
          "output_type": "execute_result"
        }
      ],
      "source": []
    },
    {
      "cell_type": "markdown",
      "id": "c88fb001",
      "metadata": {
        "id": "c88fb001"
      },
      "source": [
        "## Linear Transformation\n",
        "### Ex.1"
      ]
    },
    {
      "cell_type": "markdown",
      "id": "9ef341fd",
      "metadata": {
        "id": "9ef341fd"
      },
      "source": [
        "$$T=\\begin{bmatrix} 1&2 \\\\ 3&7 \\end{bmatrix}$$\n",
        "- Write the linear transformation expression of this matrix. i.e. Linear functions of x,y. \n",
        "- Apply the transformation matrix <b>T</b> to the following vectors:\n",
        "$$\\begin{bmatrix} 1 \\\\ 0 \\end{bmatrix},\\begin{bmatrix} 0 \\\\ 1 \\end{bmatrix} $$\n",
        "- Find all points <b>(x,y)</b> such that <b>T(x,y)=(1,0)</b>"
      ]
    },
    {
      "cell_type": "code",
      "source": [
        "m=np.array([[1,2],\n",
        "            [3,7]])\n",
        "M = sm.Matrix(m)\n",
        "print(M.rref())\n",
        "v1=M[:,0]\n",
        "v2=M[:,1]\n",
        "print('\\na.v1=\\n',v1,'\\na.v2=\\n',v2)\n"
      ],
      "metadata": {
        "colab": {
          "base_uri": "https://localhost:8080/"
        },
        "id": "4fQxXYIdUCGV",
        "outputId": "94188f90-6b44-446c-dc1f-6d25e44f943e"
      },
      "id": "4fQxXYIdUCGV",
      "execution_count": null,
      "outputs": [
        {
          "output_type": "stream",
          "name": "stdout",
          "text": [
            "(Matrix([\n",
            "[1, 0],\n",
            "[0, 1]]), (0, 1))\n",
            "\n",
            "a.v1=\n",
            " Matrix([[1], [3]]) \n",
            "a.v2=\n",
            " Matrix([[2], [7]])\n"
          ]
        }
      ]
    },
    {
      "cell_type": "code",
      "execution_count": null,
      "id": "d3e46a3d",
      "metadata": {
        "id": "d3e46a3d",
        "outputId": "5126f5f4-4bc1-42f7-a02c-de0b473aeed8"
      },
      "outputs": [
        {
          "name": "stdout",
          "output_type": "stream",
          "text": [
            "A.v1=\n",
            "[[1]\n",
            " [3]]\n",
            "\n",
            "A.v2=\n",
            "[[2]\n",
            " [7]]\n"
          ]
        }
      ],
      "source": []
    },
    {
      "cell_type": "code",
      "source": [
        "M = np.array([[1,2],\n",
        "               [3,7]])\n",
        "np.linalg.det(M)"
      ],
      "metadata": {
        "colab": {
          "base_uri": "https://localhost:8080/"
        },
        "id": "wpp__F6LDHv3",
        "outputId": "6985f48d-09d8-4675-d8d2-2321bf9b257d"
      },
      "id": "wpp__F6LDHv3",
      "execution_count": null,
      "outputs": [
        {
          "output_type": "execute_result",
          "data": {
            "text/plain": [
              "0.9999999999999991"
            ]
          },
          "metadata": {},
          "execution_count": 11
        }
      ]
    },
    {
      "cell_type": "code",
      "source": [
        "m=np.linalg.inv(M)\n",
        "m"
      ],
      "metadata": {
        "colab": {
          "base_uri": "https://localhost:8080/"
        },
        "id": "2VgDLU-5MGWJ",
        "outputId": "a31a8e7f-75e9-436b-d3ba-fdfaf913e65e"
      },
      "id": "2VgDLU-5MGWJ",
      "execution_count": null,
      "outputs": [
        {
          "output_type": "execute_result",
          "data": {
            "text/plain": [
              "array([[ 7., -2.],\n",
              "       [-3.,  1.]])"
            ]
          },
          "metadata": {},
          "execution_count": 18
        }
      ]
    },
    {
      "cell_type": "code",
      "source": [
        "print(\"(x,y):\\n\",m[:,0])"
      ],
      "metadata": {
        "colab": {
          "base_uri": "https://localhost:8080/"
        },
        "id": "iFEmWhAFMOLt",
        "outputId": "2edb8877-1722-4e14-fb8a-3db6245f127a"
      },
      "id": "iFEmWhAFMOLt",
      "execution_count": null,
      "outputs": [
        {
          "output_type": "stream",
          "name": "stdout",
          "text": [
            "(x,y):\n",
            " [ 7. -3.]\n"
          ]
        }
      ]
    },
    {
      "cell_type": "code",
      "execution_count": null,
      "id": "5e4bdf4e",
      "metadata": {
        "id": "5e4bdf4e",
        "outputId": "5256d37b-a698-4718-e589-ac7b622cfa05"
      },
      "outputs": [
        {
          "name": "stdout",
          "output_type": "stream",
          "text": [
            "(x,y):\n",
            "[[ 7.]\n",
            " [-3.]]\n"
          ]
        }
      ],
      "source": []
    },
    {
      "cell_type": "markdown",
      "id": "aa9f63c6",
      "metadata": {
        "id": "aa9f63c6"
      },
      "source": [
        "### Ex.2\n",
        "### For the expression $$T\\begin{bmatrix} x \\\\ y \\end{bmatrix}=\\begin{bmatrix} x+y \\\\ y \\end{bmatrix}$$\n",
        "- Find the transformation matrix.\n",
        "- Represent the transformation graphically <b>(on paper)</b>.\n",
        "- Find all points <b>(x,y)</b> such that <b>T(x,y)=(3,4)</b>"
      ]
    },
    {
      "cell_type": "code",
      "execution_count": null,
      "id": "96dd3fd1",
      "metadata": {
        "id": "96dd3fd1",
        "outputId": "efa51832-7451-4ec9-b18c-221be7ed4138"
      },
      "outputs": [
        {
          "name": "stdout",
          "output_type": "stream",
          "text": [
            "x:\n",
            "[[-1.]\n",
            " [ 4.]]\n"
          ]
        }
      ],
      "source": []
    },
    {
      "cell_type": "markdown",
      "id": "81b7edf9",
      "metadata": {
        "id": "81b7edf9"
      },
      "source": [
        "## Determinant\n",
        "### Find Determinant of:"
      ]
    },
    {
      "cell_type": "markdown",
      "id": "f999e755",
      "metadata": {
        "id": "f999e755"
      },
      "source": [
        "$$\\begin{bmatrix} 3&8 \\\\ 4&6 \\end{bmatrix} , \\begin{bmatrix} 4&6 \\\\ 3&8 \\end{bmatrix}$$\n",
        "$$\\begin{bmatrix} 6&1&1 \\\\ 4&-2&5 \\\\ 2&8&7\\end{bmatrix}$$\n",
        "$$\\begin{bmatrix} 3&2&0&1 \\\\ 4&0&1&2 \\\\ 3&0&2&1 \\\\ 9&2&3&1\\end{bmatrix}$$\n"
      ]
    },
    {
      "cell_type": "code",
      "source": [
        "m1=np.array([[3,8],\n",
        "             [4,6]])\n",
        "m2=np.array([[4,6],\n",
        "             [3,8]])\n",
        "m3=np.array([[6,1,1],\n",
        "            [4,-2,5],\n",
        "             [2,8,7]])\n",
        "m4=np.array([[3,2,0,1],\n",
        "             [4,0,1,2],\n",
        "             [3,0,2,1],\n",
        "             [9,2,3,1]])\n",
        "d1=np.linalg.det(m1)\n",
        "d2=np.linalg.det(m2)\n",
        "d3=np.linalg.det(m3)\n",
        "d4=np.linalg.det(m4)\n",
        "print('1.',d1,'\\n2.',d2,'\\n3.',d3,'\\n4.',d4)\n",
        "\n"
      ],
      "metadata": {
        "colab": {
          "base_uri": "https://localhost:8080/"
        },
        "id": "gzC2pH8cS8G9",
        "outputId": "36af40b4-bdf5-437a-f355-19988f10702f"
      },
      "id": "gzC2pH8cS8G9",
      "execution_count": null,
      "outputs": [
        {
          "output_type": "stream",
          "name": "stdout",
          "text": [
            "1. -14.000000000000004 \n",
            "2. 14.000000000000004 \n",
            "3. -306.0 \n",
            "4. 24.000000000000004\n"
          ]
        }
      ]
    },
    {
      "cell_type": "code",
      "execution_count": null,
      "id": "95fc52ce",
      "metadata": {
        "id": "95fc52ce",
        "outputId": "88bed840-0921-45a2-87f8-28405359815c"
      },
      "outputs": [
        {
          "name": "stdout",
          "output_type": "stream",
          "text": [
            "1.  -14.000000000000004\n",
            "2.  14.000000000000004\n",
            "3.  -306.0\n",
            "4.  24.000000000000004\n"
          ]
        }
      ],
      "source": []
    },
    {
      "cell_type": "markdown",
      "id": "3d7f760c",
      "metadata": {
        "id": "3d7f760c"
      },
      "source": [
        "## Matrix Rank\n",
        "### Find the rank of the matrix (use rref and confirm using matrix_rank())"
      ]
    },
    {
      "cell_type": "markdown",
      "id": "39022ae4",
      "metadata": {
        "id": "39022ae4"
      },
      "source": [
        "$$X = \\begin{bmatrix} 1&2&4&4 \\\\ 3&4&8&0 \\end{bmatrix}$$\n",
        "$$Y = \\begin{bmatrix} 1&2&3 \\\\ 2&3&5 \\\\ 3&4&7 \\\\ 4&5&9  \\end{bmatrix}$$"
      ]
    },
    {
      "cell_type": "code",
      "source": [
        "x=np.array([[1,2,4,4],\n",
        "            [3,4,8,0]])\n",
        "X=sm.Matrix(x)\n",
        "rank1=np.linalg.matrix_rank(x)\n",
        "print(X.rref(),'\\nx rank: ',rank1)"
      ],
      "metadata": {
        "colab": {
          "base_uri": "https://localhost:8080/"
        },
        "id": "9d6ElXzNdt3Z",
        "outputId": "6135a455-3bbf-43bb-b08f-f44fc97641e4"
      },
      "id": "9d6ElXzNdt3Z",
      "execution_count": null,
      "outputs": [
        {
          "output_type": "stream",
          "name": "stdout",
          "text": [
            "(Matrix([\n",
            "[1, 0, 0, -8],\n",
            "[0, 1, 2,  6]]), (0, 1)) \n",
            "x rank:  2\n"
          ]
        }
      ]
    },
    {
      "cell_type": "code",
      "execution_count": null,
      "id": "6855c257",
      "metadata": {
        "id": "6855c257",
        "outputId": "e95f166a-0dda-4070-ab43-79bcbdfc8a63"
      },
      "outputs": [
        {
          "name": "stdout",
          "output_type": "stream",
          "text": [
            "(Matrix([\n",
            "[1, 0, 0, -8],\n",
            "[0, 1, 2,  6]]), (0, 1))\n",
            "\n",
            "X rank: 2\n"
          ]
        }
      ],
      "source": []
    },
    {
      "cell_type": "code",
      "source": [
        "y=np.array([[1,2,3],\n",
        "            [2,3,5],\n",
        "            [3,4,7],\n",
        "            [4,5,9]])\n",
        "Y=sm.Matrix(y)\n",
        "rank1=np.linalg.matrix_rank(y)\n",
        "print(Y.rref(),'\\nY rank: ',rank1)"
      ],
      "metadata": {
        "colab": {
          "base_uri": "https://localhost:8080/"
        },
        "id": "Og_Aiy_bi3wt",
        "outputId": "87dd611a-a2a1-419a-a311-317f2b35eed6"
      },
      "id": "Og_Aiy_bi3wt",
      "execution_count": null,
      "outputs": [
        {
          "output_type": "stream",
          "name": "stdout",
          "text": [
            "(Matrix([\n",
            "[1, 0, 1],\n",
            "[0, 1, 1],\n",
            "[0, 0, 0],\n",
            "[0, 0, 0]]), (0, 1)) \n",
            "Y rank:  2\n"
          ]
        }
      ]
    },
    {
      "cell_type": "code",
      "execution_count": null,
      "id": "864a8f85",
      "metadata": {
        "id": "864a8f85",
        "outputId": "42644344-0900-4575-ed24-eb16288d00f9"
      },
      "outputs": [
        {
          "name": "stdout",
          "output_type": "stream",
          "text": [
            "(Matrix([\n",
            "[1, 0, 1],\n",
            "[0, 1, 1],\n",
            "[0, 0, 0],\n",
            "[0, 0, 0]]), (0, 1))\n",
            "\n",
            "Y rank: 2\n"
          ]
        }
      ],
      "source": []
    },
    {
      "cell_type": "markdown",
      "id": "9b55ebcf",
      "metadata": {
        "id": "9b55ebcf"
      },
      "source": [
        "## Matrix Inverse\n",
        "### Find the inverse:"
      ]
    },
    {
      "cell_type": "markdown",
      "id": "6f15a14c",
      "metadata": {
        "id": "6f15a14c"
      },
      "source": [
        "$$\\begin{bmatrix} 3&8 \\\\ 4&6 \\end{bmatrix} , \\begin{bmatrix} 4&6 \\\\ 3&8 \\end{bmatrix}$$\n",
        "$$\\begin{bmatrix} 6&1&1 \\\\ 4&-2&5 \\\\ 2&8&7\\end{bmatrix}$$\n",
        "$$\\begin{bmatrix} 3&2&0&1 \\\\ 4&0&1&2 \\\\ 3&0&2&1 \\\\ 9&2&3&1\\end{bmatrix}$$"
      ]
    },
    {
      "cell_type": "code",
      "source": [
        "m1=np.array([[3,8],\n",
        "             [4,6]])\n",
        "m2=np.array([[4,6],\n",
        "             [3,8]])\n",
        "m3=np.array([[6,1,1],\n",
        "            [4,-2,5],\n",
        "             [2,8,7]])\n",
        "m4=np.array([[3,2,0,1],\n",
        "             [4,0,1,2],\n",
        "             [3,0,2,1],\n",
        "             [9,2,3,1]])\n",
        "inv1=np.linalg.inv(m1)\n",
        "inv2=np.linalg.inv(m2)\n",
        "inv3=np.linalg.inv(m3)\n",
        "inv4=np.linalg.inv(m4)\n",
        "print('1.\\n',inv1,'\\n2.\\n',inv2,'\\n3.\\n',inv3,'\\n4.\\n',inv4)"
      ],
      "metadata": {
        "colab": {
          "base_uri": "https://localhost:8080/"
        },
        "id": "5QPv21ggjVaB",
        "outputId": "752159c3-dbcb-4928-d67b-fb8785d92971"
      },
      "id": "5QPv21ggjVaB",
      "execution_count": null,
      "outputs": [
        {
          "output_type": "stream",
          "name": "stdout",
          "text": [
            "1.\n",
            " [[-0.42857143  0.57142857]\n",
            " [ 0.28571429 -0.21428571]] \n",
            "2.\n",
            " [[ 0.57142857 -0.42857143]\n",
            " [-0.21428571  0.28571429]] \n",
            "3.\n",
            " [[ 0.17647059 -0.00326797 -0.02287582]\n",
            " [ 0.05882353 -0.13071895  0.08496732]\n",
            " [-0.11764706  0.1503268   0.05228758]] \n",
            "4.\n",
            " [[-0.25        0.25       -0.5         0.25      ]\n",
            " [ 0.66666667 -0.5         0.5        -0.16666667]\n",
            " [ 0.16666667 -0.5         1.         -0.16666667]\n",
            " [ 0.41666667  0.25        0.5        -0.41666667]]\n"
          ]
        }
      ]
    },
    {
      "cell_type": "code",
      "execution_count": null,
      "id": "ff81fb7b",
      "metadata": {
        "id": "ff81fb7b",
        "outputId": "5ef9d9c0-212c-47ed-ec61-4c4b256748dc"
      },
      "outputs": [
        {
          "name": "stdout",
          "output_type": "stream",
          "text": [
            "1.\n",
            " [[-0.42857143  0.57142857]\n",
            " [ 0.28571429 -0.21428571]]\n",
            "\n",
            "2.\n",
            " [[ 0.57142857 -0.42857143]\n",
            " [-0.21428571  0.28571429]]\n",
            "\n",
            "3.\n",
            " [[ 0.17647059 -0.00326797 -0.02287582]\n",
            " [ 0.05882353 -0.13071895  0.08496732]\n",
            " [-0.11764706  0.1503268   0.05228758]]\n",
            "\n",
            "4.\n",
            " [[-0.25        0.25       -0.5         0.25      ]\n",
            " [ 0.66666667 -0.5         0.5        -0.16666667]\n",
            " [ 0.16666667 -0.5         1.         -0.16666667]\n",
            " [ 0.41666667  0.25        0.5        -0.41666667]]\n"
          ]
        }
      ],
      "source": []
    },
    {
      "cell_type": "markdown",
      "id": "6dfa4568",
      "metadata": {
        "id": "6dfa4568"
      },
      "source": [
        "## Changing Basis (Orthogonal Coordinates)\n",
        "### Perform the following (Once by dot product and another by matix). \n",
        "### First confirm b1 and b2 are orthogonal basis.\n",
        "![image-3.png](attachment:image-3.png)"
      ]
    },
    {
      "cell_type": "code",
      "source": [],
      "metadata": {
        "id": "Fx-UWheskN3S"
      },
      "id": "Fx-UWheskN3S",
      "execution_count": null,
      "outputs": []
    },
    {
      "cell_type": "code",
      "source": [],
      "metadata": {
        "id": "ptKgq6BDkOda"
      },
      "id": "ptKgq6BDkOda",
      "execution_count": null,
      "outputs": []
    },
    {
      "cell_type": "code",
      "execution_count": null,
      "id": "1ac7a564",
      "metadata": {
        "id": "1ac7a564",
        "outputId": "f15ef996-bab2-4ab1-eef6-31e0ee96ad47"
      },
      "outputs": [
        {
          "name": "stdout",
          "output_type": "stream",
          "text": [
            "Using dot product\n",
            "vb:\n",
            "[[2.]\n",
            " [3.]]\n"
          ]
        }
      ],
      "source": []
    },
    {
      "cell_type": "code",
      "execution_count": null,
      "id": "f1738498",
      "metadata": {
        "scrolled": false,
        "id": "f1738498",
        "outputId": "446be39e-9845-4ef7-9072-c91997f38569"
      },
      "outputs": [
        {
          "name": "stdout",
          "output_type": "stream",
          "text": [
            "Using transformation matrix\n",
            "vb:\n",
            "[[2.]\n",
            " [3.]]\n"
          ]
        }
      ],
      "source": []
    },
    {
      "cell_type": "markdown",
      "id": "87b1b94e",
      "metadata": {
        "id": "87b1b94e"
      },
      "source": [
        "## Changing Basis (Non-Orthogonal Coordinates)\n",
        "### Perform the following. \n",
        "### First confirm b1 and b2 are non-orthogonal basis.\n",
        "![image-4.png](attachment:image-4.png)"
      ]
    },
    {
      "cell_type": "code",
      "execution_count": null,
      "id": "dc21f392",
      "metadata": {
        "id": "dc21f392",
        "outputId": "8c3c8c44-5103-46e7-ff79-68577fdb893c"
      },
      "outputs": [
        {
          "name": "stdout",
          "output_type": "stream",
          "text": [
            "vb:\n",
            "[[1.5]\n",
            " [0.5]]\n"
          ]
        }
      ],
      "source": []
    },
    {
      "cell_type": "markdown",
      "id": "24e6f17d",
      "metadata": {
        "id": "24e6f17d"
      },
      "source": [
        "## Transformation in Non-Orthonormal Space\n",
        "![image-3.png](attachment:image-3.png)"
      ]
    },
    {
      "cell_type": "code",
      "execution_count": null,
      "id": "6a96c43f",
      "metadata": {
        "scrolled": true,
        "id": "6a96c43f",
        "outputId": "6403129c-bd8d-4b9d-b542-6042b0be8926"
      },
      "outputs": [
        {
          "name": "stdout",
          "output_type": "stream",
          "text": [
            "TB1 =\n",
            " [[ 2.  1.]\n",
            " [-3. -2.]]\n",
            "\n",
            "TB2 =\n",
            " [[ 2.  1.]\n",
            " [-5. -2.]]\n",
            "\n",
            "vb_TB1 =\n",
            " [[ 3.5]\n",
            " [-5.5]]\n",
            "\n",
            "vb_TB2 =\n",
            " [[ 3.5]\n",
            " [-8.5]]\n"
          ]
        }
      ],
      "source": []
    },
    {
      "cell_type": "markdown",
      "id": "2b687c17",
      "metadata": {
        "id": "2b687c17"
      },
      "source": [
        "## Gram–Schmidt Process (Orthogonalization)\n",
        "![image-2.png](attachment:image-2.png)\n",
        "#### Confirm your answer using numpy.linalg.qr() function\n",
        "#### Make sure all vectors given above are basis in R3 space.\n",
        "#### Confirm that the orthogonal matrix has orthonormal vectors.\n",
        "#### Confirm that the transpose of the orthogonal matrix is it's inverse.\n",
        "#### Reflect the vector r = (1,3,4) arround the xy plane.\n",
        "#### Round all results to 3 decimal points."
      ]
    },
    {
      "cell_type": "code",
      "execution_count": null,
      "id": "07ba3659",
      "metadata": {
        "id": "07ba3659",
        "outputId": "0ce4a373-b6c9-4b28-bad2-f80f541d92e4"
      },
      "outputs": [
        {
          "name": "stdout",
          "output_type": "stream",
          "text": [
            "det(V): -15.0\n",
            "Mrref:\n",
            " (Matrix([\n",
            "[1, 0, 0],\n",
            "[0, 1, 0],\n",
            "[0, 0, 1]]), (0, 1, 2))\n"
          ]
        }
      ],
      "source": []
    },
    {
      "cell_type": "code",
      "execution_count": null,
      "id": "95031239",
      "metadata": {
        "id": "95031239",
        "outputId": "9cc184f5-b099-4768-8e20-c98c0cd449bb"
      },
      "outputs": [
        {
          "name": "stdout",
          "output_type": "stream",
          "text": [
            "u1:\n",
            "[[1]\n",
            " [2]\n",
            " [0]]\n",
            "\n",
            "u2:\n",
            "[[ 6.]\n",
            " [-3.]\n",
            " [-6.]]\n",
            "\n",
            "u3:\n",
            "[[ 0.44444444]\n",
            " [-0.22222222]\n",
            " [ 0.55555556]]\n",
            "\n",
            "e1:\n",
            "[[0.4472136 ]\n",
            " [0.89442719]\n",
            " [0.        ]]\n",
            "\n",
            "e2:\n",
            "[[ 0.66666667]\n",
            " [-0.33333333]\n",
            " [-0.66666667]]\n",
            "\n",
            "e3:\n",
            "[[ 0.59628479]\n",
            " [-0.2981424 ]\n",
            " [ 0.74535599]]\n"
          ]
        }
      ],
      "source": []
    },
    {
      "cell_type": "code",
      "execution_count": null,
      "id": "857b9624",
      "metadata": {
        "scrolled": true,
        "id": "857b9624",
        "outputId": "b2a1ab34-214c-4f42-dcbc-3e474888385d"
      },
      "outputs": [
        {
          "name": "stdout",
          "output_type": "stream",
          "text": [
            "Using QR:\n",
            "[[-0.4472136   0.66666667  0.59628479]\n",
            " [-0.89442719 -0.33333333 -0.2981424 ]\n",
            " [-0.         -0.66666667  0.74535599]]\n"
          ]
        }
      ],
      "source": []
    },
    {
      "cell_type": "code",
      "execution_count": null,
      "id": "5c2e8898",
      "metadata": {
        "id": "5c2e8898",
        "outputId": "e64e9ecb-ba68-4d08-fe16-cd029c30ac90"
      },
      "outputs": [
        {
          "data": {
            "text/plain": [
              "1.0"
            ]
          },
          "execution_count": 10,
          "metadata": {},
          "output_type": "execute_result"
        }
      ],
      "source": []
    },
    {
      "cell_type": "code",
      "execution_count": null,
      "id": "405735fa",
      "metadata": {
        "id": "405735fa",
        "outputId": "b46d7818-88ea-4435-b68d-7c9d9e038717"
      },
      "outputs": [
        {
          "name": "stdout",
          "output_type": "stream",
          "text": [
            "Q Inverse:\n",
            " [[-0.447 -0.894 -0.   ]\n",
            " [ 0.667 -0.333 -0.667]\n",
            " [ 0.596 -0.298  0.745]]\n",
            "Q Transpose\n",
            " [[-0.447 -0.894 -0.   ]\n",
            " [ 0.667 -0.333 -0.667]\n",
            " [ 0.596 -0.298  0.745]]\n"
          ]
        }
      ],
      "source": []
    },
    {
      "cell_type": "code",
      "execution_count": null,
      "id": "53e683d9",
      "metadata": {
        "id": "53e683d9",
        "outputId": "16eb7a88-19fb-4fd2-9510-8dd86d290dfd"
      },
      "outputs": [
        {
          "name": "stdout",
          "output_type": "stream",
          "text": [
            "Transformation matrix in the non-orthonormal basis:\n",
            "[[ 0.28888889  0.35555556 -0.88888889]\n",
            " [ 0.35555556  0.82222222  0.44444444]\n",
            " [-0.88888889  0.44444444 -0.11111111]]\n",
            "\n",
            "Transformed vector:\n",
            "[[-2.2]\n",
            " [ 4.6]\n",
            " [ 0. ]]\n"
          ]
        }
      ],
      "source": []
    },
    {
      "cell_type": "code",
      "execution_count": null,
      "id": "b788c2df",
      "metadata": {
        "id": "b788c2df"
      },
      "outputs": [],
      "source": []
    }
  ],
  "metadata": {
    "kernelspec": {
      "display_name": "Python 3 (ipykernel)",
      "language": "python",
      "name": "python3"
    },
    "language_info": {
      "codemirror_mode": {
        "name": "ipython",
        "version": 3
      },
      "file_extension": ".py",
      "mimetype": "text/x-python",
      "name": "python",
      "nbconvert_exporter": "python",
      "pygments_lexer": "ipython3",
      "version": "3.9.12"
    },
    "colab": {
      "provenance": [],
      "include_colab_link": true
    }
  },
  "nbformat": 4,
  "nbformat_minor": 5
}