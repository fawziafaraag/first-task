{
  "nbformat": 4,
  "nbformat_minor": 0,
  "metadata": {
    "colab": {
      "provenance": [],
      "authorship_tag": "ABX9TyOJXsEqGqvs+ldj5xHWY/63",
      "include_colab_link": true
    },
    "kernelspec": {
      "name": "python3",
      "display_name": "Python 3"
    },
    "language_info": {
      "name": "python"
    }
  },
  "cells": [
    {
      "cell_type": "markdown",
      "metadata": {
        "id": "view-in-github",
        "colab_type": "text"
      },
      "source": [
        "<a href=\"https://colab.research.google.com/github/fawziafaraag/first-task/blob/main/data_structure%26algorithms_Lab_2_.ipynb\" target=\"_parent\"><img src=\"https://colab.research.google.com/assets/colab-badge.svg\" alt=\"Open In Colab\"/></a>"
      ]
    },
    {
      "cell_type": "code",
      "execution_count": 6,
      "metadata": {
        "colab": {
          "base_uri": "https://localhost:8080/"
        },
        "id": "THmvw2YJgTz0",
        "outputId": "934536a1-177a-4bd0-81d2-31ecaed13fff"
      },
      "outputs": [
        {
          "output_type": "stream",
          "name": "stdout",
          "text": [
            "list_after_sort  :>>>[3, 6, 9, 21, 33]\n"
          ]
        }
      ],
      "source": [
        "def bubbleSort( unsorted_list ):\n",
        "    n = len( unsorted_list )\n",
        "\n",
        "    for i in range( n - 1 ) :\n",
        "        flag = 0\n",
        "\n",
        "        for j in range(n - 1) :\n",
        "            \n",
        "            if unsorted_list[j] > unsorted_list[j + 1] : \n",
        "                tmp = unsorted_list[j]\n",
        "                unsorted_list[j] = unsorted_list[j + 1]\n",
        "                unsorted_list[j + 1] = tmp\n",
        "                flag = 1\n",
        "\n",
        "        if flag == 0:\n",
        "            break\n",
        "\n",
        "    return unsorted_list\n",
        "\n",
        "\n",
        "#### the list we want to sort\n",
        "list = [21,6,9,33,3] \n",
        "\n",
        "#### calling the bubblesort function\n",
        "list_after_sort = bubbleSort(list)\n",
        "\n",
        "print (f'list_after_sort  :>>>{list_after_sort}')\n"
      ]
    },
    {
      "cell_type": "code",
      "source": [
        "### binary search with recursive\n",
        "\n",
        "def BinarySerach_rec(arr, l, h, x):\n",
        " \n",
        "    # Check base case\n",
        "    if h >= l:\n",
        " \n",
        "        mid = l + (h - l) // 2\n",
        " \n",
        "        # If element is present at the middle itself\n",
        "        if arr[mid] == x:\n",
        "            return mid\n",
        " \n",
        "        # If element is smaller than mid, then it\n",
        "        # can only be present in left subarray\n",
        "        elif arr[mid] > x:\n",
        "            return BinarySerach_rec(arr, l, mid-1, x)\n",
        " \n",
        "        # Else the element can only be present\n",
        "        # in right subarray\n",
        "        else:\n",
        "            return BinarySerach_rec(arr, mid + 1, h, x)\n",
        " \n",
        "    else:\n",
        "        # Element is not present in the array\n",
        "        return -1\n",
        "\n",
        "# Driver Code\n",
        "arr= [10,20,30,40,50,60,70,80,90]\n",
        "elem = 30\n",
        " \n",
        "# Function call\n",
        "result = BinarySerach_rec(arr, 0, len(arr)-1, elem )\n",
        " \n",
        "if result != -1:\n",
        "    print(f\"Element is present at index {result}\")\n",
        "else:\n",
        "    print(\"Element is not present in array\")\n",
        "\n"
      ],
      "metadata": {
        "colab": {
          "base_uri": "https://localhost:8080/"
        },
        "id": "h7V0BLX0h9bM",
        "outputId": "31736b81-1c18-4280-97a3-0efb101f1c4b"
      },
      "execution_count": 7,
      "outputs": [
        {
          "output_type": "stream",
          "name": "stdout",
          "text": [
            "Element is present at index 2\n"
          ]
        }
      ]
    },
    {
      "cell_type": "code",
      "source": [
        "### binary search with iterative\n",
        "\n",
        "def BinarySearch_itr(arr, To_Find):\n",
        "    lo = 0\n",
        "    hi = len(arr) - 1\n",
        " \n",
        "    # This below check covers all cases , so need to check\n",
        "    # for mid=lo-(hi-lo)/2\n",
        "    while hi - lo > 1:\n",
        "        mid = (hi + lo) // 2\n",
        "        if arr[mid] < To_Find:\n",
        "            lo = mid + 1\n",
        "        else:\n",
        "            hi = mid\n",
        " \n",
        "    if arr[lo] == To_Find:\n",
        "        print(\"Element is present at index\", lo)\n",
        "    elif arr[hi] == To_Find:\n",
        "        print(\"Element is present at index\", hi)\n",
        "    else:\n",
        "        print(\"Element is not present in array\")\n",
        " \n",
        " \n",
        "\n",
        "\n",
        "arr= [10,20,30,40,50,60,70,80,90]\n",
        "elem = 30\n",
        "BinarySearch_itr(arr,elem )\n",
        "    "
      ],
      "metadata": {
        "colab": {
          "base_uri": "https://localhost:8080/"
        },
        "id": "COEN7OEumQvo",
        "outputId": "0cc87ca1-25b8-4062-af27-3c2cc97acab9"
      },
      "execution_count": 16,
      "outputs": [
        {
          "output_type": "stream",
          "name": "stdout",
          "text": [
            "Element is present at index 2\n"
          ]
        }
      ]
    },
    {
      "cell_type": "code",
      "source": [
        "### Factorial algorithm (Recursion) \n",
        "def recur_factorial(n):  \n",
        "   if n == 1:  \n",
        "       return n  \n",
        "   else:  \n",
        "       return n * recur_factorial(n-1)  \n",
        "\n",
        "\n",
        "\n",
        "# take input from the user  \n",
        "num = int(input(\"Enter a number: \"))  \n",
        "# check is the number is negative  \n",
        "if num < 0:  \n",
        "   print(\"Sorry, factorial does not exist for negative numbers\")  \n",
        "elif num == 0:  \n",
        "   print(\"The factorial of 0 is 1\")  \n",
        "else:  \n",
        "   print(\"The factorial of\",num,\"is\",recur_factorial(num)) "
      ],
      "metadata": {
        "colab": {
          "base_uri": "https://localhost:8080/"
        },
        "id": "0W7qvbhGr-r1",
        "outputId": "3d57d756-9de7-4eef-dfe4-50dc1997c042"
      },
      "execution_count": 14,
      "outputs": [
        {
          "output_type": "stream",
          "name": "stdout",
          "text": [
            "Enter a number: 7\n",
            "The factorial of 7 is 5040\n"
          ]
        }
      ]
    },
    {
      "cell_type": "code",
      "source": [
        "\n",
        "# Function to find the partition position\n",
        "def partition(array, low, high):\n",
        " \n",
        "    # choose the rightmost element as pivot\n",
        "    pivot = array[high]\n",
        " \n",
        "    # pointer for greater element\n",
        "    i = low - 1\n",
        " \n",
        "    # traverse through all elements\n",
        "    # compare each element with pivot\n",
        "    for j in range(low, high):\n",
        "        if array[j] <= pivot:\n",
        " \n",
        "            # If element smaller than pivot is found\n",
        "            # swap it with the greater element pointed by i\n",
        "            i = i + 1\n",
        " \n",
        "            # Swapping element at i with element at j\n",
        "            (array[i], array[j]) = (array[j], array[i])\n",
        " \n",
        "    # Swap the pivot element with the greater element specified by i\n",
        "    (array[i + 1], array[high]) = (array[high], array[i + 1])\n",
        " \n",
        "    # Return the position from where partition is done\n",
        "    return i + 1\n",
        "\n",
        " \n",
        " \n",
        "# function to perform quicksort\n",
        "def quickSort(array, low, high):\n",
        "    if low < high:\n",
        " \n",
        "        # Find pivot element such that\n",
        "        # element smaller than pivot are on the left\n",
        "        # element greater than pivot are on the right\n",
        "        pi = partition(array, low, high)\n",
        " \n",
        "        # Recursive call on the left of pivot\n",
        "        quickSort(array, low, pi - 1)\n",
        " \n",
        "        # Recursive call on the right of pivot\n",
        "        quickSort(array, pi + 1, high)\n",
        " \n",
        " \n",
        "\n",
        "\n",
        "arr2=[5,4,2,9,7,8,3,6,4,-1]\n",
        "print(\"Unsorted Array\")\n",
        "print(arr2)\n",
        "size = len(arr2)\n",
        "quickSort(arr2, 0, size - 1)\n",
        "print('Sorted Array in Ascending Order:')\n",
        "print(arr2)"
      ],
      "metadata": {
        "colab": {
          "base_uri": "https://localhost:8080/"
        },
        "id": "QDoOa9sutAcD",
        "outputId": "dd8ea4f7-ac19-4680-c156-3e638afc70e1"
      },
      "execution_count": 17,
      "outputs": [
        {
          "output_type": "stream",
          "name": "stdout",
          "text": [
            "Unsorted Array\n",
            "[5, 4, 2, 9, 7, 8, 3, 6, 4, -1]\n",
            "Sorted Array in Ascending Order:\n",
            "[-1, 2, 3, 4, 4, 5, 6, 7, 8, 9]\n"
          ]
        }
      ]
    }
  ]
}